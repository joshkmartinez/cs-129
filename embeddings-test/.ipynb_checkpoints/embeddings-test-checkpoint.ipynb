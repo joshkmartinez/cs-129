{
 "cells": [
  {
   "cell_type": "code",
   "execution_count": null,
   "id": "e77819ce-feb0-457f-a63a-4135cf0cb8c5",
   "metadata": {},
   "outputs": [],
   "source": [
    "# Import"
   ]
  },
  {
   "cell_type": "code",
   "execution_count": null,
   "id": "91607320-6275-480e-a00a-843aba7bf424",
   "metadata": {},
   "outputs": [],
   "source": [
    "# Generate embeddings"
   ]
  },
  {
   "cell_type": "code",
   "execution_count": null,
   "id": "e4d1f862-19ae-46ba-b4ea-9971aae826cb",
   "metadata": {},
   "outputs": [],
   "source": [
    "# Use embeddings???"
   ]
  }
 ],
 "metadata": {
  "kernelspec": {
   "display_name": "Python 3 (ipykernel)",
   "language": "python",
   "name": "python3"
  },
  "language_info": {
   "codemirror_mode": {
    "name": "ipython",
    "version": 3
   },
   "file_extension": ".py",
   "mimetype": "text/x-python",
   "name": "python",
   "nbconvert_exporter": "python",
   "pygments_lexer": "ipython3",
   "version": "3.9.6"
  }
 },
 "nbformat": 4,
 "nbformat_minor": 5
}
